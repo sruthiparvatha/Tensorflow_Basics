{
  "nbformat": 4,
  "nbformat_minor": 0,
  "metadata": {
    "colab": {
      "name": "basics_tf.ipynb",
      "provenance": [],
      "collapsed_sections": []
    },
    "kernelspec": {
      "name": "python3",
      "display_name": "Python 3"
    }
  },
  "cells": [
    {
      "cell_type": "code",
      "metadata": {
        "colab": {
          "base_uri": "https://localhost:8080/"
        },
        "id": "R6XcVhT11mg_",
        "outputId": "128ff3ac-9df1-4705-943a-9f425aea07aa"
      },
      "source": [
        "import numpy as np\r\n",
        "%tensorflow_version 2.x\r\n",
        "import tensorflow as tf\r\n",
        "print(tf.version)"
      ],
      "execution_count": 2,
      "outputs": [
        {
          "output_type": "stream",
          "text": [
            "<module 'tensorflow._api.v2.version' from '/usr/local/lib/python3.7/dist-packages/tensorflow/_api/v2/version/__init__.py'>\n"
          ],
          "name": "stdout"
        }
      ]
    },
    {
      "cell_type": "code",
      "metadata": {
        "colab": {
          "base_uri": "https://localhost:8080/"
        },
        "id": "EUZMiYDv1u5S",
        "outputId": "19332545-2167-41d6-f77a-58151c330a5b"
      },
      "source": [
        "# Creating Tensors\r\n",
        "\r\n",
        "# Scalar Data with rank 0 \r\n",
        "string = tf.Variable(\"This is a string\",tf.string)\r\n",
        "num = tf.Variable(7869, tf.int16)\r\n",
        "floating = tf.Variable(3.142, tf.float64)\r\n",
        "print(string)"
      ],
      "execution_count": 3,
      "outputs": [
        {
          "output_type": "stream",
          "text": [
            "<tf.Variable 'Variable:0' shape=() dtype=string, numpy=b'This is a string'>\n"
          ],
          "name": "stdout"
        }
      ]
    },
    {
      "cell_type": "code",
      "metadata": {
        "colab": {
          "base_uri": "https://localhost:8080/"
        },
        "id": "FavVgpaG1vGg",
        "outputId": "0457398e-cd22-4104-8e8a-872b9a895a1b"
      },
      "source": [
        "# Rank/Degree of Tensors: gives the dimensionality of the tensor\r\n",
        "rank1_tensor = tf.Variable([\"Love\",\"Coding\",\"Sruthi\"],tf.string)\r\n",
        "rank2_tensor = tf.Variable([\"Stay\",\"Calm\",\"and\",\"be\",\"patient\"],[\"you\",\"are\",\"doing a good job.\",\"Believe in yourself.\",\"Sruthi\"], tf.string)\r\n",
        "\r\n",
        "print(rank2_tensor)\r\n",
        "\r\n"
      ],
      "execution_count": 4,
      "outputs": [
        {
          "output_type": "stream",
          "text": [
            "<tf.Variable 'Variable:0' shape=(5,) dtype=string, numpy=array([b'Stay', b'Calm', b'and', b'be', b'patient'], dtype=object)>\n"
          ],
          "name": "stdout"
        }
      ]
    },
    {
      "cell_type": "code",
      "metadata": {
        "colab": {
          "base_uri": "https://localhost:8080/"
        },
        "id": "WiGKZxIO6nfZ",
        "outputId": "fc2f53f5-78b1-4010-bee4-7cf56dd07eea"
      },
      "source": [
        "# Determine the rank of a tensor\r\n",
        "print(tf.rank(num))\r\n",
        "print(tf.rank(rank1_tensor))"
      ],
      "execution_count": 5,
      "outputs": [
        {
          "output_type": "stream",
          "text": [
            "tf.Tensor(0, shape=(), dtype=int32)\n",
            "tf.Tensor(1, shape=(), dtype=int32)\n"
          ],
          "name": "stdout"
        }
      ]
    },
    {
      "cell_type": "code",
      "metadata": {
        "colab": {
          "base_uri": "https://localhost:8080/"
        },
        "id": "jJRI7xhU7Qgz",
        "outputId": "de2b9b79-60f5-42b6-82ce-02026a541b6b"
      },
      "source": [
        "# Shape of a tensor\r\n",
        "print(string.shape)\r\n",
        "print(rank1_tensor.shape)\r\n",
        "(rank2_tensor.shape) "
      ],
      "execution_count": 6,
      "outputs": [
        {
          "output_type": "stream",
          "text": [
            "()\n",
            "(3,)\n"
          ],
          "name": "stdout"
        },
        {
          "output_type": "execute_result",
          "data": {
            "text/plain": [
              "TensorShape([5])"
            ]
          },
          "metadata": {
            "tags": []
          },
          "execution_count": 6
        }
      ]
    },
    {
      "cell_type": "code",
      "metadata": {
        "id": "SxwKAa3u7REt"
      },
      "source": [
        "tensor = tf.ones([1,2,3]) # all the values should be ones of the required shape\r\n",
        "tensor1 = tf.reshape(tensor, [2,3,1]) # reshapes into 2 lists with 3 elements in each list and lastly one element in each list. totally 3 nested lists\r\n",
        "tensor2 = tf.reshape(tensor,[3, -1]) # reshapes into 3 lists as given and figures out by itself the number of elements in each list\r\n",
        "\r\n"
      ],
      "execution_count": 7,
      "outputs": []
    },
    {
      "cell_type": "code",
      "metadata": {
        "id": "NmdAZAtf7QjL"
      },
      "source": [
        "# Evaluate the tensors\r\n",
        "tf.compat.v1.disable_eager_execution()\r\n",
        "\r\n",
        "with tf.compat.v1.Session() as sess: # create a session using the default graph\r\n",
        "    tensor.numpy() # tensor will of ourse be the name of the tensor, numpy() in place of eval()"
      ],
      "execution_count": 8,
      "outputs": []
    },
    {
      "cell_type": "code",
      "metadata": {
        "colab": {
          "base_uri": "https://localhost:8080/"
        },
        "id": "xEHXEaQA_9Gu",
        "outputId": "8ee41d01-df04-4494-e961-509470ab765c"
      },
      "source": [
        "# Examples:\r\n",
        "\r\n",
        "t = tf.ones([5,5,5,5])\r\n",
        "t1 = tf.reshape(t, [625])\r\n",
        "print(t1)\r\n",
        "t2 = tf.reshape(t, [125,-1])\r\n",
        "print(t2)"
      ],
      "execution_count": 10,
      "outputs": [
        {
          "output_type": "stream",
          "text": [
            "Tensor(\"Reshape_1:0\", shape=(625,), dtype=float32)\n",
            "Tensor(\"Reshape_2:0\", shape=(125, 5), dtype=float32)\n"
          ],
          "name": "stdout"
        }
      ]
    },
    {
      "cell_type": "code",
      "metadata": {
        "id": "kBOtpxu6M8MW"
      },
      "source": [
        ""
      ],
      "execution_count": null,
      "outputs": []
    },
    {
      "cell_type": "markdown",
      "metadata": {
        "id": "0s4pcgW1MiqR"
      },
      "source": [
        "# **TENSORFLOW CORE ALGORITHMS**"
      ]
    },
    {
      "cell_type": "markdown",
      "metadata": {
        "id": "eQKFXvaJM4Qq"
      },
      "source": [
        "***1. Linear Regression***"
      ]
    },
    {
      "cell_type": "code",
      "metadata": {
        "colab": {
          "base_uri": "https://localhost:8080/",
          "height": 282
        },
        "id": "-e8411IyOvkR",
        "outputId": "08111f19-ae88-4d21-e1d2-abad7b57f012"
      },
      "source": [
        "# Basic Example:\r\n",
        "import matplotlib.pyplot as plt\r\n",
        "import numpy as np\r\n",
        "\r\n",
        "x = [1, 2, 2.5, 3, 4]\r\n",
        "y = [1, 4, 7, 9, 15]\r\n",
        "plt.plot(x, y, 'ro')\r\n",
        "# plt.axis([0, 6, 0, 20])"
      ],
      "execution_count": 14,
      "outputs": [
        {
          "output_type": "execute_result",
          "data": {
            "text/plain": [
              "[<matplotlib.lines.Line2D at 0x7f2fd8197dd0>]"
            ]
          },
          "metadata": {
            "tags": []
          },
          "execution_count": 14
        },
        {
          "output_type": "display_data",
          "data": {
            "image/png": "[encoded data removed]",
            "text/plain": [
              "<Figure size 432x288 with 1 Axes>"
            ]
          },
          "metadata": {
            "tags": [],
            "needs_background": "light"
          }
        }
      ]
    },
    {
      "cell_type": "code",
      "metadata": {
        "colab": {
          "base_uri": "https://localhost:8080/",
          "height": 269
        },
        "id": "o-j5eB3-O8QC",
        "outputId": "860a0460-513d-4c6c-9963-8ec053e19351"
      },
      "source": [
        "# Best fit line for the above points\r\n",
        "plt.plot(x, y, 'ro')\r\n",
        "plt.axis([0, 6, 0, 20])\r\n",
        "plt.plot(np.unique(x), np.poly1d(np.polyfit(x, y, 1))(np.unique(x)))\r\n",
        "plt.show()\r\n"
      ],
      "execution_count": 15,
      "outputs": [
        {
          "output_type": "display_data",
          "data": {
            "image/png": "[encoded data removed]",
            "text/plain": [
              "<Figure size 432x288 with 1 Axes>"
            ]
          },
          "metadata": {
            "tags": [],
            "needs_background": "light"
          }
        }
      ]
    },
    {
      "cell_type": "code",
      "metadata": {
        "id": "WggCSMCyJ9WF"
      },
      "source": [
        "from __future__ import absolute_import, division, print_function, unicode_literals\r\n",
        "\r\n",
        "import numpy as np\r\n",
        "import pandas as pd\r\n",
        "import matplotlib.pyplot as plt\r\n",
        "from IPython.display import clear_output\r\n",
        "from six.moves import urllib\r\n",
        "\r\n",
        "import tensorflow.compat.v2.feature_column as fc  # Needed for linear regression model\r\n",
        "\r\n",
        "import tensorflow as tf"
      ],
      "execution_count": 13,
      "outputs": []
    },
    {
      "cell_type": "code",
      "metadata": {
        "id": "Zh0WRg10J9Xw"
      },
      "source": [
        "# Load the dataset\r\n",
        "dftrain = pd.read_csv('https://storage.googleapis.com/tf-datasets/titanic/train.csv') # Training data\r\n",
        "dftest = pd.read_csv('https://storage.googleapis.com/tf-datasets/titanic/eval.csv') # testing data\r\n",
        "y_train = dftrain.pop('survived')\r\n",
        "y_test = dftest.pop('survived')"
      ],
      "execution_count": 16,
      "outputs": []
    },
    {
      "cell_type": "code",
      "metadata": {
        "id": "dz_15phvJ9aO"
      },
      "source": [
        ""
      ],
      "execution_count": null,
      "outputs": []
    },
    {
      "cell_type": "code",
      "metadata": {
        "id": "kRpuFOazJ9gB"
      },
      "source": [
        ""
      ],
      "execution_count": null,
      "outputs": []
    }
  ]
}