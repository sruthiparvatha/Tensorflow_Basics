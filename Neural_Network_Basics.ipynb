{
  "nbformat": 4,
  "nbformat_minor": 0,
  "metadata": {
    "colab": {
      "name": "Neural_Network_Basics.ipynb",
      "provenance": [],
      "collapsed_sections": []
    },
    "kernelspec": {
      "name": "python3",
      "display_name": "Python 3"
    }
  },
  "cells": [
    {
      "cell_type": "markdown",
      "metadata": {
        "id": "w33Urg3mSxHP"
      },
      "source": [
        "#Introduction to Neural Network\r\n"
      ]
    },
    {
      "cell_type": "markdown",
      "metadata": {
        "id": "XM68mj5-gBYN"
      },
      "source": [
        "##Creating a Neural Network"
      ]
    },
    {
      "cell_type": "code",
      "metadata": {
        "id": "RObKVpEKSzk3"
      },
      "source": [
        "%tensorflow_version 2.x \r\n",
        "import tensorflow as tf\r\n",
        "from tensorflow import keras\r\n",
        "\r\n",
        "# Helper libraries\r\n",
        "import numpy as np\r\n",
        "import matplotlib.pyplot as plt"
      ],
      "execution_count": 2,
      "outputs": []
    },
    {
      "cell_type": "markdown",
      "metadata": {
        "id": "YPswYUxnTMEq"
      },
      "source": [
        "###Dataset\r\n",
        "\r\n",
        "We will use the MNIST Fashion Dataset. It is included in Keras.\r\n",
        "\r\n",
        "This dataset contains 60,000 images for training and 10,000 images for validation/testing."
      ]
    },
    {
      "cell_type": "code",
      "metadata": {
        "colab": {
          "base_uri": "https://localhost:8080/"
        },
        "id": "WpvUZ8IjTKQZ",
        "outputId": "11ae1be4-377b-4dd2-fe17-d958784ddead"
      },
      "source": [
        "fashion_mnist = keras.datasets.fashion_mnist # loading the dataset present in keras\r\n",
        "\r\n",
        "(train_images, train_labels), (test_images, test_labels) = fashion_mnist.load_data() # split the dataset into tetsing and training"
      ],
      "execution_count": 3,
      "outputs": [
        {
          "output_type": "stream",
          "text": [
            "Downloading data from https://storage.googleapis.com/tensorflow/tf-keras-datasets/train-labels-idx1-ubyte.gz\n",
            "32768/29515 [=================================] - 0s 0us/step\n",
            "Downloading data from https://storage.googleapis.com/tensorflow/tf-keras-datasets/train-images-idx3-ubyte.gz\n",
            "26427392/26421880 [==============================] - 0s 0us/step\n",
            "Downloading data from https://storage.googleapis.com/tensorflow/tf-keras-datasets/t10k-labels-idx1-ubyte.gz\n",
            "8192/5148 [===============================================] - 0s 0us/step\n",
            "Downloading data from https://storage.googleapis.com/tensorflow/tf-keras-datasets/t10k-images-idx3-ubyte.gz\n",
            "4423680/4422102 [==============================] - 0s 0us/step\n"
          ],
          "name": "stdout"
        }
      ]
    },
    {
      "cell_type": "markdown",
      "metadata": {
        "id": "d9DX1Yv-T6IB"
      },
      "source": [
        "Understanding the dataset: it contains 60,000 images of 28x28 pixels each(784 in total)."
      ]
    },
    {
      "cell_type": "code",
      "metadata": {
        "colab": {
          "base_uri": "https://localhost:8080/"
        },
        "id": "3mce7GCOUEGi",
        "outputId": "548ed47a-70eb-42f8-fcdb-59c6602f77b2"
      },
      "source": [
        "train_images.shape"
      ],
      "execution_count": 4,
      "outputs": [
        {
          "output_type": "execute_result",
          "data": {
            "text/plain": [
              "(60000, 28, 28)"
            ]
          },
          "metadata": {
            "tags": []
          },
          "execution_count": 4
        }
      ]
    },
    {
      "cell_type": "code",
      "metadata": {
        "colab": {
          "base_uri": "https://localhost:8080/"
        },
        "id": "bW-1UylfUN07",
        "outputId": "47e8d2e8-d844-4ddd-8efc-ed2b9e97a449"
      },
      "source": [
        "# A Quick look at a single pixel of an image\r\n",
        "train_images[0,23,19] "
      ],
      "execution_count": 5,
      "outputs": [
        {
          "output_type": "execute_result",
          "data": {
            "text/plain": [
              "210"
            ]
          },
          "metadata": {
            "tags": []
          },
          "execution_count": 5
        }
      ]
    },
    {
      "cell_type": "markdown",
      "metadata": {
        "id": "8Tl-XdtfUydC"
      },
      "source": [
        "Gray Scale image with each pixel value in the range of 0(black) and 255(white). No color channels."
      ]
    },
    {
      "cell_type": "code",
      "metadata": {
        "colab": {
          "base_uri": "https://localhost:8080/"
        },
        "id": "uc_5Tfn0VCGC",
        "outputId": "a716b5ac-8717-47f0-e503-55269013c054"
      },
      "source": [
        "train_labels[:10] # Looking at the first 10 training labels"
      ],
      "execution_count": 7,
      "outputs": [
        {
          "output_type": "execute_result",
          "data": {
            "text/plain": [
              "array([9, 0, 0, ..., 3, 0, 5], dtype=uint8)"
            ]
          },
          "metadata": {
            "tags": []
          },
          "execution_count": 7
        }
      ]
    },
    {
      "cell_type": "markdown",
      "metadata": {
        "id": "n-3SCaOXVT9r"
      },
      "source": [
        "Labels are integers ranging from 0 - 9. Each integer represents a specific article of clothing. Let's create an array of label names to indicate which is which."
      ]
    },
    {
      "cell_type": "code",
      "metadata": {
        "id": "_XWKzcIsVWmj"
      },
      "source": [
        "class_names = ['T-shirt/top', 'Trouser', 'Pullover', 'Dress', 'Coat',\r\n",
        "               'Sandal', 'Shirt', 'Sneaker', 'Bag', 'Ankle Boot']"
      ],
      "execution_count": 8,
      "outputs": []
    },
    {
      "cell_type": "markdown",
      "metadata": {
        "id": "JgpBJsxCVu3Z"
      },
      "source": [
        "Let's take a look at what some of these images look like!"
      ]
    },
    {
      "cell_type": "code",
      "metadata": {
        "colab": {
          "base_uri": "https://localhost:8080/",
          "height": 265
        },
        "id": "7FBFEACQV2eA",
        "outputId": "65cfdc38-67a0-40fa-9386-706d2e0ce6f1"
      },
      "source": [
        "plt.figure()\r\n",
        "plt.imshow(train_images[0])\r\n",
        "plt.colorbar()\r\n",
        "plt.show()"
      ],
      "execution_count": 13,
      "outputs": [
        {
          "output_type": "display_data",
          "data": {
            "image/png": "[encoded data removed]",
            "text/plain": [
              "<Figure size 432x288 with 2 Axes>"
            ]
          },
          "metadata": {
            "tags": [],
            "needs_background": "light"
          }
        }
      ]
    },
    {
      "cell_type": "markdown",
      "metadata": {
        "id": "EWr6Gg_FWOKd"
      },
      "source": [
        "##Data Preprocessing\r\n",
        "The last step before creating the model is to *preprocess* the data. This simply means applying some prior transformations to the data before feeding it the model. In this case we will simply scale all our greyscale pixel values (0-255) to be between 0 and 1. We can do this by dividing each value in the training and testing sets by 255.0. We do this because smaller values will make it easier for the model to process our values. "
      ]
    },
    {
      "cell_type": "code",
      "metadata": {
        "id": "nDoXH7lzWXfG"
      },
      "source": [
        "#Normalising the data to values between 0 and 1\r\n",
        "train_images = train_images/255.0\r\n",
        "test_images = test_images/255.0"
      ],
      "execution_count": 14,
      "outputs": []
    },
    {
      "cell_type": "markdown",
      "metadata": {
        "id": "hXotsfQvWmhI"
      },
      "source": [
        "#Building the model\r\n",
        "Build the model using keras sequential model with 3 different layers. This model essentially represents a feed-forward neural network(one that passes values from left to right). The following is the architecture"
      ]
    },
    {
      "cell_type": "code",
      "metadata": {
        "id": "2Tw-p0H_XGID"
      },
      "source": [
        "model = keras.Sequential([\r\n",
        "       keras.layers.Flatten(input_shape=(28, 28)), # input layer (1)  \r\n",
        "       keras.layers.Dense(128, activation='relu'), # hidden layer(2)\r\n",
        "       keras.layers.Dense(10, activation='softmax') # output layer(3)               \r\n",
        "])"
      ],
      "execution_count": 17,
      "outputs": []
    },
    {
      "cell_type": "markdown",
      "metadata": {
        "id": "0Cu5MEofZg1T"
      },
      "source": [
        "**Layer 1:** Input layer consists of 784 neurons. The flatten layer means that it  will reshape the shape (28,28) array into a vector of 784 neurons such that each pixel will be associated with one neuron.\r\n",
        "\r\n",
        "**Layer 2:** Hidden layer. The *dense* denotes that this layer will be fully connected and each neuron from the previous layer connects to each neuron of this layer. It has 128 neurons and uses the rectified linear unit activation function.\r\n",
        "\r\n",
        "**Layer 3:** This is the output layer which is also a dense layer. It has 10 neurons that we will look at to determine our models output. Each neuron represnts the probability of a given image being one of the 10 different classes. The activation function *softmax* is used on this layer to calculate a probability distribution for each class. This means the value of any neuron in this layer will be between 0 and 1, where 1 represents a high probability of the image being that class."
      ]
    },
    {
      "cell_type": "markdown",
      "metadata": {
        "id": "WAqJeodbaaY4"
      },
      "source": [
        "##Compile the Model\r\n",
        "The last step before building the model is to define the loss function, optimizer and metrics."
      ]
    },
    {
      "cell_type": "code",
      "metadata": {
        "id": "BuGyB-s9aoBf"
      },
      "source": [
        "model.compile(optimizer= 'adam',\r\n",
        "              loss='sparse_categorical_crossentropy',\r\n",
        "              metrics = ['accuracy'])"
      ],
      "execution_count": 18,
      "outputs": []
    },
    {
      "cell_type": "markdown",
      "metadata": {
        "id": "9o_CXTPYa1Na"
      },
      "source": [
        "##Training the Model\r\n"
      ]
    },
    {
      "cell_type": "code",
      "metadata": {
        "colab": {
          "base_uri": "https://localhost:8080/"
        },
        "id": "sESEO7STa0jw",
        "outputId": "d052ad8e-1c56-413a-9edf-01a46812888c"
      },
      "source": [
        "model.fit(train_images, train_labels, epochs=10)"
      ],
      "execution_count": 19,
      "outputs": [
        {
          "output_type": "stream",
          "text": [
            "Epoch 1/10\n",
            "1875/1875 [==============================] - 4s 2ms/step - loss: 0.6238 - accuracy: 0.7845\n",
            "Epoch 2/10\n",
            "1875/1875 [==============================] - 3s 2ms/step - loss: 0.3842 - accuracy: 0.8621\n",
            "Epoch 3/10\n",
            "1875/1875 [==============================] - 3s 2ms/step - loss: 0.3412 - accuracy: 0.8761\n",
            "Epoch 4/10\n",
            "1875/1875 [==============================] - 3s 2ms/step - loss: 0.3152 - accuracy: 0.8842\n",
            "Epoch 5/10\n",
            "1875/1875 [==============================] - 3s 2ms/step - loss: 0.2978 - accuracy: 0.8904\n",
            "Epoch 6/10\n",
            "1875/1875 [==============================] - 3s 2ms/step - loss: 0.2825 - accuracy: 0.8966\n",
            "Epoch 7/10\n",
            "1875/1875 [==============================] - 3s 2ms/step - loss: 0.2634 - accuracy: 0.9020\n",
            "Epoch 8/10\n",
            "1875/1875 [==============================] - 3s 2ms/step - loss: 0.2576 - accuracy: 0.9036\n",
            "Epoch 9/10\n",
            "1875/1875 [==============================] - 3s 2ms/step - loss: 0.2474 - accuracy: 0.9090\n",
            "Epoch 10/10\n",
            "1875/1875 [==============================] - 3s 2ms/step - loss: 0.2336 - accuracy: 0.9135\n"
          ],
          "name": "stdout"
        },
        {
          "output_type": "execute_result",
          "data": {
            "text/plain": [
              "<tensorflow.python.keras.callbacks.History at 0x7fee47805290>"
            ]
          },
          "metadata": {
            "tags": []
          },
          "execution_count": 19
        }
      ]
    },
    {
      "cell_type": "markdown",
      "metadata": {
        "id": "QSMCfwP4bYZA"
      },
      "source": [
        "#Evaluating the Model\r\n",
        "Here, verbose = 0 (silent) or 1 (progress bar) "
      ]
    },
    {
      "cell_type": "code",
      "metadata": {
        "colab": {
          "base_uri": "https://localhost:8080/"
        },
        "id": "PxoD3P52bjrb",
        "outputId": "a3dbd74c-4f36-4278-e33a-d252a55a3196"
      },
      "source": [
        "# Evaluating the model by inputting test/validation data\r\n",
        "test_loss, test_accuracy = model.evaluate(test_images, test_labels, verbose=1)\r\n",
        "print('Test Accuracy is: ', test_accuracy)"
      ],
      "execution_count": 22,
      "outputs": [
        {
          "output_type": "stream",
          "text": [
            "313/313 [==============================] - 0s 1ms/step - loss: 0.3203 - accuracy: 0.8883\n",
            "Test Accuracy is:  0.8883000016212463\n"
          ],
          "name": "stdout"
        }
      ]
    },
    {
      "cell_type": "markdown",
      "metadata": {
        "id": "1ipRXeH-cGGa"
      },
      "source": [
        "You'll likely notice that the accuracy here is lower than when training the model. This difference is reffered to as **overfitting**."
      ]
    },
    {
      "cell_type": "markdown",
      "metadata": {
        "id": "sPRyOWV1cNoN"
      },
      "source": [
        "#Making Predictions"
      ]
    },
    {
      "cell_type": "code",
      "metadata": {
        "id": "qZo10X2YcKg3"
      },
      "source": [
        "#To make predictions pass an array of input data, the .predict() returns an array of predictions for each image passed.\r\n",
        "predictions = model.predict(train_images) "
      ],
      "execution_count": 24,
      "outputs": []
    },
    {
      "cell_type": "code",
      "metadata": {
        "colab": {
          "base_uri": "https://localhost:8080/"
        },
        "id": "_z2UCyVlcpAF",
        "outputId": "8786c6ff-7645-4fd3-9292-987012c8ca5b"
      },
      "source": [
        " # predictions for a single image\r\n",
        " # displays the probability distribution of the likelihood of the input data being a particular class\r\n",
        " # 10 classes are present for this dataset\r\n",
        "predictions[0]\r\n"
      ],
      "execution_count": 25,
      "outputs": [
        {
          "output_type": "execute_result",
          "data": {
            "text/plain": [
              "array([1.47282204e-11, 7.66295360e-12, 8.95542809e-13, 1.33916858e-12,\n",
              "       4.72998322e-13, 1.87867976e-04, 1.07589476e-11, 6.35583978e-03,\n",
              "       5.24860100e-10, 9.93456304e-01], dtype=float32)"
            ]
          },
          "metadata": {
            "tags": []
          },
          "execution_count": 25
        }
      ]
    },
    {
      "cell_type": "markdown",
      "metadata": {
        "id": "OBHVsucWditE"
      },
      "source": [
        "If we wan't to get the value with the highest score we can use a useful function from numpy called ```argmax()```. This simply returns the index of the maximium value from a numpy array."
      ]
    },
    {
      "cell_type": "code",
      "metadata": {
        "colab": {
          "base_uri": "https://localhost:8080/"
        },
        "id": "2mR9qOrodjjg",
        "outputId": "084aa2e9-acb0-4b1f-af88-bc606e082b1f"
      },
      "source": [
        "np.argmax(predictions[0])"
      ],
      "execution_count": 26,
      "outputs": [
        {
          "output_type": "execute_result",
          "data": {
            "text/plain": [
              "9"
            ]
          },
          "metadata": {
            "tags": []
          },
          "execution_count": 26
        }
      ]
    },
    {
      "cell_type": "markdown",
      "metadata": {
        "id": "hBYPtURCdrFo"
      },
      "source": [
        "And we can check if this is correct by looking at the value of the cooresponding test label."
      ]
    },
    {
      "cell_type": "code",
      "metadata": {
        "colab": {
          "base_uri": "https://localhost:8080/"
        },
        "id": "EoMe_mVddr9q",
        "outputId": "e4db1d79-001e-46df-8957-6aae5ab9609c"
      },
      "source": [
        "test_labels[0]"
      ],
      "execution_count": 27,
      "outputs": [
        {
          "output_type": "execute_result",
          "data": {
            "text/plain": [
              "9"
            ]
          },
          "metadata": {
            "tags": []
          },
          "execution_count": 27
        }
      ]
    },
    {
      "cell_type": "markdown",
      "metadata": {
        "id": "jURuIHN3dxxQ"
      },
      "source": [
        "# Verifying Predictions\r\n",
        "A simple application that helps to verify predictions with simple visuals"
      ]
    },
    {
      "cell_type": "code",
      "metadata": {
        "colab": {
          "base_uri": "https://localhost:8080/",
          "height": 312
        },
        "id": "kg5sKgDVd-br",
        "outputId": "1bd76d1c-a85f-44b7-f7ec-d088f301bf98"
      },
      "source": [
        "# Initialising the plot\r\n",
        "COLOR = 'black'\r\n",
        "plt.rcParams['text.color'] = COLOR\r\n",
        "plt.rcParams['axes.labelcolor']= COLOR\r\n",
        "\r\n",
        "\r\n",
        "def predict(model, image, correct_label):\r\n",
        "  class_names = ['T-shirt/top', 'Trouser', 'Pullover', 'Dress', 'Coat',\r\n",
        "               'Sandal', 'Shirt', 'Sneaker', 'Bag', 'Ankle boot']\r\n",
        "  prediction = model.predict(np.array([image]))\r\n",
        "  predicted_class = class_names[np.argmax(prediction)]\r\n",
        "\r\n",
        "  show_image(image, class_names[correct_label], predicted_class)\r\n",
        "\r\n",
        "def show_image(img, label, guess):\r\n",
        "  plt.figure()\r\n",
        "  plt.imshow(img, cmap=plt.cm.binary)\r\n",
        "  plt.title(\"Expected: \"+ label)\r\n",
        "  plt.xlabel(\"Guess: \"+ guess)\r\n",
        "  plt.colorbar()\r\n",
        "  plt.show()\r\n",
        "\r\n",
        "\r\n",
        "def get_number():\r\n",
        "  while True:\r\n",
        "    num = input(\"Pick a Number: \")\r\n",
        "    if num.isdigit():\r\n",
        "      num = int(num)\r\n",
        "      if 0<=num<=1000:\r\n",
        "        return int(num)\r\n",
        "      else:\r\n",
        "        print(\"Enter a valid Number between 0-100\")\r\n",
        "\r\n",
        "num = get_number()\r\n",
        "image = test_images[num]\r\n",
        "label = test_labels[num]\r\n",
        "predict(model, image, label)\r\n"
      ],
      "execution_count": 33,
      "outputs": [
        {
          "output_type": "stream",
          "text": [
            "Pick a Number: 67\n"
          ],
          "name": "stdout"
        },
        {
          "output_type": "display_data",
          "data": {
            "image/png": "[encoded data removed]",
            "text/plain": [
              "<Figure size 432x288 with 2 Axes>"
            ]
          },
          "metadata": {
            "tags": [],
            "needs_background": "light"
          }
        }
      ]
    },
    {
      "cell_type": "code",
      "metadata": {
        "id": "dqIRdrSCeRGt"
      },
      "source": [
        ""
      ],
      "execution_count": null,
      "outputs": []
    }
  ]
}