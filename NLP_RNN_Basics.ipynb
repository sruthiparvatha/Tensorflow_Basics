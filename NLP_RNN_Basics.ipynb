{
  "nbformat": 4,
  "nbformat_minor": 0,
  "metadata": {
    "colab": {
      "name": "NLP_RNN_Basics.ipynb",
      "provenance": [],
      "collapsed_sections": []
    },
    "kernelspec": {
      "name": "python3",
      "display_name": "Python 3"
    },
    "accelerator": "GPU"
  },
  "cells": [
    {
      "cell_type": "code",
      "metadata": {
        "id": "5QkZRKE8RpH2"
      },
      "source": [
        ""
      ],
      "execution_count": null,
      "outputs": []
    },
    {
      "cell_type": "markdown",
      "metadata": {
        "id": "S1nuxDx5VTiS"
      },
      "source": [
        "# **Natural Language Processing:**\r\n",
        "NLP is the field that focuses on how computers can understand and/or process natural/human languages."
      ]
    },
    {
      "cell_type": "markdown",
      "metadata": {
        "id": "ds-aNp7xVdlN"
      },
      "source": [
        "# Recurrent Neural Networks\r\n",
        " It is a new kind of neural network that is much more capable of processing **sequential data** such as text or characters called a recurrent neural network.\r\n",
        "\r\n",
        "Applications of RNN:\r\n",
        "\r\n",
        "*   Sentiment Analysis\r\n",
        "*   Character Generation\r\n",
        "\r\n"
      ]
    },
    {
      "cell_type": "markdown",
      "metadata": {
        "id": "nB2C0xy5Tzdt"
      },
      "source": [
        "# **Bag of Words** : \r\n",
        "used to convert to numeric form\r\n",
        "Very simple but not very accurate implementation.\r\n",
        "It just contains the vocabulary of distinct words in a text and assign them a numeric value and keep track of their frequency.\r\n",
        "Loses the ordering of the words in a text.\r\n",
        "\r\n",
        "Bag of words fails to capture the meaning or the context of sentences. For instance:\r\n",
        "\r\n",
        "**I thought the movie was going to be bad, but it was actually amazing!**\r\n",
        "\r\n",
        "**I thought the movie was going to be amazing, but it was actually bad!**\r\n",
        "\r\n",
        "Although these two setences are very similar we know that they have very different meanings. This is because of the ordering of words, a very important property of textual data."
      ]
    },
    {
      "cell_type": "code",
      "metadata": {
        "colab": {
          "base_uri": "https://localhost:8080/"
        },
        "id": "EFuuDVZuad7c",
        "outputId": "ee98d6bb-eada-4b90-e44f-98473d77fea0"
      },
      "source": [
        "vocab = {}  # maps word to integer representing it\r\n",
        "word_encoding = 1\r\n",
        "def bag_of_words(text):\r\n",
        "  global word_encoding\r\n",
        "\r\n",
        "  words = text.lower().split(\" \")  # create a list of all of the words in the text, well assume there is no grammar in our text for this example\r\n",
        "  bag = {}  # stores all of the encodings and their frequency\r\n",
        "\r\n",
        "  for word in words:\r\n",
        "    if word in vocab:\r\n",
        "      encoding = vocab[word]  # get encoding from vocab\r\n",
        "    else:\r\n",
        "      vocab[word] = word_encoding\r\n",
        "      encoding = word_encoding\r\n",
        "      word_encoding += 1\r\n",
        "    \r\n",
        "    if encoding in bag:\r\n",
        "      bag[encoding] += 1\r\n",
        "    else:\r\n",
        "      bag[encoding] = 1\r\n",
        "  \r\n",
        "  return bag\r\n",
        "\r\n",
        "text = \"this is a test to see if this test will work is is test a a\"\r\n",
        "bag = bag_of_words(text)\r\n",
        "print(bag)\r\n",
        "print(vocab)"
      ],
      "execution_count": 1,
      "outputs": [
        {
          "output_type": "stream",
          "text": [
            "{1: 2, 2: 3, 3: 3, 4: 3, 5: 1, 6: 1, 7: 1, 8: 1, 9: 1}\n",
            "{'this': 1, 'is': 2, 'a': 3, 'test': 4, 'to': 5, 'see': 6, 'if': 7, 'will': 8, 'work': 9}\n"
          ],
          "name": "stdout"
        }
      ]
    },
    {
      "cell_type": "markdown",
      "metadata": {
        "id": "cPcuVI1GdefM"
      },
      "source": [
        "Instance where Bag of Words fails to correctly classify the review"
      ]
    },
    {
      "cell_type": "code",
      "metadata": {
        "colab": {
          "base_uri": "https://localhost:8080/"
        },
        "id": "wftWNYz5ddFc",
        "outputId": "69081c8f-621d-47e5-a67f-49b32c82d94b"
      },
      "source": [
        "positive_review = \"I thought the movie was going to be bad but it was actually amazing\"\r\n",
        "negative_review = \"I thought the movie was going to be amazing but it was actually bad\"\r\n",
        "\r\n",
        "pos_bag = bag_of_words(positive_review)\r\n",
        "neg_bag = bag_of_words(negative_review)\r\n",
        "\r\n",
        "print(\"Positive:\", pos_bag)\r\n",
        "print(\"Negative:\", neg_bag)"
      ],
      "execution_count": 2,
      "outputs": [
        {
          "output_type": "stream",
          "text": [
            "Positive: {10: 1, 11: 1, 12: 1, 13: 1, 14: 2, 15: 1, 5: 1, 16: 1, 17: 1, 18: 1, 19: 1, 20: 1, 21: 1}\n",
            "Negative: {10: 1, 11: 1, 12: 1, 13: 1, 14: 2, 15: 1, 5: 1, 16: 1, 21: 1, 18: 1, 19: 1, 20: 1, 17: 1}\n"
          ],
          "name": "stdout"
        }
      ]
    },
    {
      "cell_type": "markdown",
      "metadata": {
        "id": "gHU38aPfgDQX"
      },
      "source": [
        "Sentiment Analysis on Movie Dataset"
      ]
    },
    {
      "cell_type": "code",
      "metadata": {
        "colab": {
          "base_uri": "https://localhost:8080/"
        },
        "id": "S_SbY6wzgIsa",
        "outputId": "2d1ac05f-5c40-4baf-aa9d-05e549abeec2"
      },
      "source": [
        "%tensorflow_version 2.x \r\n",
        "from keras.datasets import imdb\r\n",
        "from keras.preprocessing import sequence\r\n",
        "import keras\r\n",
        "import tensorflow as tf\r\n",
        "import os\r\n",
        "import numpy as np\r\n",
        "\r\n",
        "VOCAB_SIZE = 88584\r\n",
        "\r\n",
        "MAXLEN = 250\r\n",
        "BATCH_SIZE = 64\r\n",
        "\r\n",
        "(train_data, train_labels),(test_data, test_labels) = imdb.load_data(num_words = VOCAB_SIZE)"
      ],
      "execution_count": 3,
      "outputs": [
        {
          "output_type": "stream",
          "text": [
            "Downloading data from https://storage.googleapis.com/tensorflow/tf-keras-datasets/imdb.npz\n",
            "17465344/17464789 [==============================] - 0s 0us/step\n"
          ],
          "name": "stdout"
        },
        {
          "output_type": "stream",
          "text": [
            "<string>:6: VisibleDeprecationWarning: Creating an ndarray from ragged nested sequences (which is a list-or-tuple of lists-or-tuples-or ndarrays with different lengths or shapes) is deprecated. If you meant to do this, you must specify 'dtype=object' when creating the ndarray\n",
            "/usr/local/lib/python3.7/dist-packages/tensorflow/python/keras/datasets/imdb.py:159: VisibleDeprecationWarning: Creating an ndarray from ragged nested sequences (which is a list-or-tuple of lists-or-tuples-or ndarrays with different lengths or shapes) is deprecated. If you meant to do this, you must specify 'dtype=object' when creating the ndarray\n",
            "  x_train, y_train = np.array(xs[:idx]), np.array(labels[:idx])\n",
            "/usr/local/lib/python3.7/dist-packages/tensorflow/python/keras/datasets/imdb.py:160: VisibleDeprecationWarning: Creating an ndarray from ragged nested sequences (which is a list-or-tuple of lists-or-tuples-or ndarrays with different lengths or shapes) is deprecated. If you meant to do this, you must specify 'dtype=object' when creating the ndarray\n",
            "  x_test, y_test = np.array(xs[idx:]), np.array(labels[idx:])\n"
          ],
          "name": "stderr"
        }
      ]
    },
    {
      "cell_type": "code",
      "metadata": {
        "colab": {
          "base_uri": "https://localhost:8080/"
        },
        "id": "f-TNTa6agJF1",
        "outputId": "8627d84f-0fa7-49e8-c3e4-d1c477bfad86"
      },
      "source": [
        "train_data[0]"
      ],
      "execution_count": 4,
      "outputs": [
        {
          "output_type": "execute_result",
          "data": {
            "text/plain": [
              "[1,\n",
              " 14,\n",
              " 22,\n",
              " 16,\n",
              " 43,\n",
              " 530,\n",
              " 973,\n",
              " 1622,\n",
              " 1385,\n",
              " 65,\n",
              " 458,\n",
              " 4468,\n",
              " 66,\n",
              " 3941,\n",
              " 4,\n",
              " 173,\n",
              " 36,\n",
              " 256,\n",
              " 5,\n",
              " 25,\n",
              " 100,\n",
              " 43,\n",
              " 838,\n",
              " 112,\n",
              " 50,\n",
              " 670,\n",
              " 22665,\n",
              " 9,\n",
              " 35,\n",
              " 480,\n",
              " 284,\n",
              " 5,\n",
              " 150,\n",
              " 4,\n",
              " 172,\n",
              " 112,\n",
              " 167,\n",
              " 21631,\n",
              " 336,\n",
              " 385,\n",
              " 39,\n",
              " 4,\n",
              " 172,\n",
              " 4536,\n",
              " 1111,\n",
              " 17,\n",
              " 546,\n",
              " 38,\n",
              " 13,\n",
              " 447,\n",
              " 4,\n",
              " 192,\n",
              " 50,\n",
              " 16,\n",
              " 6,\n",
              " 147,\n",
              " 2025,\n",
              " 19,\n",
              " 14,\n",
              " 22,\n",
              " 4,\n",
              " 1920,\n",
              " 4613,\n",
              " 469,\n",
              " 4,\n",
              " 22,\n",
              " 71,\n",
              " 87,\n",
              " 12,\n",
              " 16,\n",
              " 43,\n",
              " 530,\n",
              " 38,\n",
              " 76,\n",
              " 15,\n",
              " 13,\n",
              " 1247,\n",
              " 4,\n",
              " 22,\n",
              " 17,\n",
              " 515,\n",
              " 17,\n",
              " 12,\n",
              " 16,\n",
              " 626,\n",
              " 18,\n",
              " 19193,\n",
              " 5,\n",
              " 62,\n",
              " 386,\n",
              " 12,\n",
              " 8,\n",
              " 316,\n",
              " 8,\n",
              " 106,\n",
              " 5,\n",
              " 4,\n",
              " 2223,\n",
              " 5244,\n",
              " 16,\n",
              " 480,\n",
              " 66,\n",
              " 3785,\n",
              " 33,\n",
              " 4,\n",
              " 130,\n",
              " 12,\n",
              " 16,\n",
              " 38,\n",
              " 619,\n",
              " 5,\n",
              " 25,\n",
              " 124,\n",
              " 51,\n",
              " 36,\n",
              " 135,\n",
              " 48,\n",
              " 25,\n",
              " 1415,\n",
              " 33,\n",
              " 6,\n",
              " 22,\n",
              " 12,\n",
              " 215,\n",
              " 28,\n",
              " 77,\n",
              " 52,\n",
              " 5,\n",
              " 14,\n",
              " 407,\n",
              " 16,\n",
              " 82,\n",
              " 10311,\n",
              " 8,\n",
              " 4,\n",
              " 107,\n",
              " 117,\n",
              " 5952,\n",
              " 15,\n",
              " 256,\n",
              " 4,\n",
              " 31050,\n",
              " 7,\n",
              " 3766,\n",
              " 5,\n",
              " 723,\n",
              " 36,\n",
              " 71,\n",
              " 43,\n",
              " 530,\n",
              " 476,\n",
              " 26,\n",
              " 400,\n",
              " 317,\n",
              " 46,\n",
              " 7,\n",
              " 4,\n",
              " 12118,\n",
              " 1029,\n",
              " 13,\n",
              " 104,\n",
              " 88,\n",
              " 4,\n",
              " 381,\n",
              " 15,\n",
              " 297,\n",
              " 98,\n",
              " 32,\n",
              " 2071,\n",
              " 56,\n",
              " 26,\n",
              " 141,\n",
              " 6,\n",
              " 194,\n",
              " 7486,\n",
              " 18,\n",
              " 4,\n",
              " 226,\n",
              " 22,\n",
              " 21,\n",
              " 134,\n",
              " 476,\n",
              " 26,\n",
              " 480,\n",
              " 5,\n",
              " 144,\n",
              " 30,\n",
              " 5535,\n",
              " 18,\n",
              " 51,\n",
              " 36,\n",
              " 28,\n",
              " 224,\n",
              " 92,\n",
              " 25,\n",
              " 104,\n",
              " 4,\n",
              " 226,\n",
              " 65,\n",
              " 16,\n",
              " 38,\n",
              " 1334,\n",
              " 88,\n",
              " 12,\n",
              " 16,\n",
              " 283,\n",
              " 5,\n",
              " 16,\n",
              " 4472,\n",
              " 113,\n",
              " 103,\n",
              " 32,\n",
              " 15,\n",
              " 16,\n",
              " 5345,\n",
              " 19,\n",
              " 178,\n",
              " 32]"
            ]
          },
          "metadata": {
            "tags": []
          },
          "execution_count": 4
        }
      ]
    },
    {
      "cell_type": "markdown",
      "metadata": {
        "id": "XElgWPNiqXvo"
      },
      "source": [
        "# Preprocessing\r\n",
        "Here, the reviews are of different lengths. We cannot pass different length data into the Neural Network.\r\n",
        "Therefore, we must make each review the same length. To do this we will follow the procedure below:\r\n",
        "\r\n",
        "\r\n",
        "\r\n",
        "*   If the review is greater than 250 words then trim off the extra words\r\n",
        "*   If the review is less than 250 words add the necessary amount of 0's to make it equal to 250."
      ]
    },
    {
      "cell_type": "code",
      "metadata": {
        "colab": {
          "base_uri": "https://localhost:8080/"
        },
        "id": "513w4_EugJIq",
        "outputId": "a6645989-ed08-4c3a-ae3f-852d83cdf1dd"
      },
      "source": [
        "# Keras function for padding\r\n",
        "train_data = sequence.pad_sequences(train_data, MAXLEN)\r\n",
        "test_data = sequence.pad_sequences(test_data, MAXLEN)\r\n",
        "print(len(test_data))"
      ],
      "execution_count": 5,
      "outputs": [
        {
          "output_type": "stream",
          "text": [
            "25000\n"
          ],
          "name": "stdout"
        }
      ]
    },
    {
      "cell_type": "code",
      "metadata": {
        "id": "z41uvYuhrh7n"
      },
      "source": [
        "model = tf.keras.Sequential([ \r\n",
        "    tf.keras.layers.Embedding(VOCAB_SIZE, 32),\r\n",
        "    tf.keras.layers.LSTM(32),\r\n",
        "    tf.keras.layers.Dense(1,activation=\"sigmoid\")\r\n",
        "])"
      ],
      "execution_count": 6,
      "outputs": []
    },
    {
      "cell_type": "code",
      "metadata": {
        "colab": {
          "base_uri": "https://localhost:8080/"
        },
        "id": "zRQ-Yf44riDf",
        "outputId": "2142bae9-8b69-4843-c9f0-6feb740b312c"
      },
      "source": [
        "model.summary()"
      ],
      "execution_count": 7,
      "outputs": [
        {
          "output_type": "stream",
          "text": [
            "Model: \"sequential\"\n",
            "_________________________________________________________________\n",
            "Layer (type)                 Output Shape              Param #   \n",
            "=================================================================\n",
            "embedding (Embedding)        (None, None, 32)          2834688   \n",
            "_________________________________________________________________\n",
            "lstm (LSTM)                  (None, 32)                8320      \n",
            "_________________________________________________________________\n",
            "dense (Dense)                (None, 1)                 33        \n",
            "=================================================================\n",
            "Total params: 2,843,041\n",
            "Trainable params: 2,843,041\n",
            "Non-trainable params: 0\n",
            "_________________________________________________________________\n"
          ],
          "name": "stdout"
        }
      ]
    },
    {
      "cell_type": "markdown",
      "metadata": {
        "id": "-dhzfX8ZsxaR"
      },
      "source": [
        "# Training\r\n",
        "Now it's time to compile and train the model."
      ]
    },
    {
      "cell_type": "code",
      "metadata": {
        "colab": {
          "base_uri": "https://localhost:8080/"
        },
        "id": "fAQWNjETsvoR",
        "outputId": "488c73c6-5efe-402d-d4db-71b70bbebfea"
      },
      "source": [
        "model.compile(loss=\"binary_crossentropy\", optimizer=\"rmsprop\",metrics = ['acc'])\r\n",
        "history = model.fit(train_data, train_labels, epochs=10, validation_split=0.2) # splitin the training data 80-20 for training and testing"
      ],
      "execution_count": 8,
      "outputs": [
        {
          "output_type": "stream",
          "text": [
            "Epoch 1/10\n",
            "625/625 [==============================] - 46s 22ms/step - loss: 0.5308 - acc: 0.7228 - val_loss: 0.3302 - val_acc: 0.8782\n",
            "Epoch 2/10\n",
            "625/625 [==============================] - 13s 20ms/step - loss: 0.2397 - acc: 0.9106 - val_loss: 0.2821 - val_acc: 0.8816\n",
            "Epoch 3/10\n",
            "625/625 [==============================] - 13s 20ms/step - loss: 0.1774 - acc: 0.9358 - val_loss: 0.2631 - val_acc: 0.8962\n",
            "Epoch 4/10\n",
            "625/625 [==============================] - 13s 20ms/step - loss: 0.1447 - acc: 0.9475 - val_loss: 0.3088 - val_acc: 0.8884\n",
            "Epoch 5/10\n",
            "625/625 [==============================] - 13s 20ms/step - loss: 0.1163 - acc: 0.9603 - val_loss: 0.2927 - val_acc: 0.8932\n",
            "Epoch 6/10\n",
            "625/625 [==============================] - 12s 20ms/step - loss: 0.1122 - acc: 0.9617 - val_loss: 0.3308 - val_acc: 0.8960\n",
            "Epoch 7/10\n",
            "625/625 [==============================] - 13s 20ms/step - loss: 0.0880 - acc: 0.9716 - val_loss: 0.3098 - val_acc: 0.8900\n",
            "Epoch 8/10\n",
            "625/625 [==============================] - 13s 20ms/step - loss: 0.0888 - acc: 0.9715 - val_loss: 0.3127 - val_acc: 0.8838\n",
            "Epoch 9/10\n",
            "625/625 [==============================] - 12s 20ms/step - loss: 0.0754 - acc: 0.9757 - val_loss: 0.3366 - val_acc: 0.8880\n",
            "Epoch 10/10\n",
            "625/625 [==============================] - 12s 20ms/step - loss: 0.0586 - acc: 0.9810 - val_loss: 0.4623 - val_acc: 0.8654\n"
          ],
          "name": "stdout"
        }
      ]
    },
    {
      "cell_type": "code",
      "metadata": {
        "colab": {
          "base_uri": "https://localhost:8080/"
        },
        "id": "y2gb0qQLsv5f",
        "outputId": "9e386d3b-fd02-4575-a7d7-bc50e684d596"
      },
      "source": [
        "# evaluating the model\r\n",
        "models = model.evaluate(test_data, test_labels)"
      ],
      "execution_count": 9,
      "outputs": [
        {
          "output_type": "stream",
          "text": [
            "782/782 [==============================] - 4s 5ms/step - loss: 0.6355 - acc: 0.8172\n"
          ],
          "name": "stdout"
        }
      ]
    },
    {
      "cell_type": "markdown",
      "metadata": {
        "id": "iFWl-Bmmvt2R"
      },
      "source": [
        "# Making Predictions on unseen/new data\r\n",
        "\r\n",
        "Since our reviews are encoded well need to convert any review that we write into that form so the network can understand it. To do that well load the encodings from the dataset and use them to encode our own data.\r\n",
        "\r\n"
      ]
    },
    {
      "cell_type": "code",
      "metadata": {
        "colab": {
          "base_uri": "https://localhost:8080/"
        },
        "id": "tqC9vyMpvnHa",
        "outputId": "249d34ab-80e2-46d5-b555-719600f571ca"
      },
      "source": [
        "word_index = imdb.get_word_index() # get the lookup table used while training the dataset\r\n",
        "\r\n",
        "\r\n",
        "def encode_text(text):\r\n",
        "  tokens = keras.preprocessing.text.text_to_word_sequence(text) # convert the words to tokens the smallest unit of data transfer in NLP\r\n",
        "  tokens = [ word_index[word] if word in word_index else 0 for word in tokens] # if token is present in lookup keep it else replace it with 0\r\n",
        "  return sequence.pad_sequences([tokens], MAXLEN)[0] # return the padded list of tokens, in here for now displaying only the first padded token\r\n",
        "\r\n",
        "\r\n",
        "text = \"that movie was just amazing, really amazing.\"\r\n",
        "encoded = encode_text(text)\r\n",
        "print(encoded)"
      ],
      "execution_count": 10,
      "outputs": [
        {
          "output_type": "stream",
          "text": [
            "Downloading data from https://storage.googleapis.com/tensorflow/tf-keras-datasets/imdb_word_index.json\n",
            "1646592/1641221 [==============================] - 0s 0us/step\n",
            "[  0   0   0   0   0   0   0   0   0   0   0   0   0   0   0   0   0   0\n",
            "   0   0   0   0   0   0   0   0   0   0   0   0   0   0   0   0   0   0\n",
            "   0   0   0   0   0   0   0   0   0   0   0   0   0   0   0   0   0   0\n",
            "   0   0   0   0   0   0   0   0   0   0   0   0   0   0   0   0   0   0\n",
            "   0   0   0   0   0   0   0   0   0   0   0   0   0   0   0   0   0   0\n",
            "   0   0   0   0   0   0   0   0   0   0   0   0   0   0   0   0   0   0\n",
            "   0   0   0   0   0   0   0   0   0   0   0   0   0   0   0   0   0   0\n",
            "   0   0   0   0   0   0   0   0   0   0   0   0   0   0   0   0   0   0\n",
            "   0   0   0   0   0   0   0   0   0   0   0   0   0   0   0   0   0   0\n",
            "   0   0   0   0   0   0   0   0   0   0   0   0   0   0   0   0   0   0\n",
            "   0   0   0   0   0   0   0   0   0   0   0   0   0   0   0   0   0   0\n",
            "   0   0   0   0   0   0   0   0   0   0   0   0   0   0   0   0   0   0\n",
            "   0   0   0   0   0   0   0   0   0   0   0   0   0   0   0   0   0   0\n",
            "   0   0   0   0   0   0   0   0   0  12  17  13  40 477  63 477]\n"
          ],
          "name": "stdout"
        }
      ]
    },
    {
      "cell_type": "code",
      "metadata": {
        "colab": {
          "base_uri": "https://localhost:8080/"
        },
        "id": "JSCypeyQvnZm",
        "outputId": "3de89784-97e5-4780-eb66-59b86760a6eb"
      },
      "source": [
        "# Since we have successfulyy encoded it, let's decode the same set of integers to get back the original string\r\n",
        "\r\n",
        "reverse_word_index = {value: key for(key,value) in word_index.items()} # the new word index should contain the integer encoding as key, and text as value\r\n",
        "\r\n",
        "def decode_integers(integers):\r\n",
        "  PAD=0\r\n",
        "  text=\"\"\r\n",
        "  for num in integers:\r\n",
        "    if num!=PAD:\r\n",
        "      text+= reverse_word_index[num]+\" \";\r\n",
        "    \r\n",
        "  return text[:-1] #return the entire sentence except the last space\r\n",
        "\r\n",
        "print(decode_integers(encoded))"
      ],
      "execution_count": 11,
      "outputs": [
        {
          "output_type": "stream",
          "text": [
            "that movie was just amazing really amazing\n"
          ],
          "name": "stdout"
        }
      ]
    },
    {
      "cell_type": "code",
      "metadata": {
        "colab": {
          "base_uri": "https://localhost:8080/"
        },
        "id": "dXW-N8AZyR4g",
        "outputId": "53d7f0ad-03a3-43cc-df30-1d74c33dc033"
      },
      "source": [
        "  # now time to make a prediction\r\n",
        "\r\n",
        "  def predict(text):\r\n",
        "    encoded_text = encode_text(text)\r\n",
        "    pred = np.zeros((1, 250)) # vector or array filled with zeroes with the shape (1, 250) , 250 because our review length is at max 250, we need to pass our input keeping the movie review length in mind\r\n",
        "    pred[0] = encoded_text\r\n",
        "    result = model.predict(pred)\r\n",
        "    print(result[0])\r\n",
        "\r\n",
        "positive_review = \"That movie was amazing! really loved it and would great watch it again because it was great.\"\r\n",
        "predict(positive_review)\r\n",
        "\r\n",
        "negative_review = \"that movie really sucked. I hated it and wouldn't watch it again. Was one of the worst things I've ever watched\"\r\n",
        "predict(negative_review)\r\n",
        "\r\n"
      ],
      "execution_count": 12,
      "outputs": [
        {
          "output_type": "stream",
          "text": [
            "[0.84257317]\n",
            "[0.21013223]\n"
          ],
          "name": "stdout"
        }
      ]
    },
    {
      "cell_type": "markdown",
      "metadata": {
        "id": "kzo7DbpcHFZk"
      },
      "source": [
        "##RNN Play Generator\r\n",
        "\r\n",
        "Now time for one of the coolest examples we've seen so far. We are going to use a RNN to generate a play. We will simply show the RNN an example of something we want it to recreate and it will learn how to write a version of it on its own. We'll do this using a character predictive model that will take as input a variable length sequence and predict the next character. We can use the model many times in a row with the output from the last predicition as the input for the next call to generate a sequence."
      ]
    },
    {
      "cell_type": "code",
      "metadata": {
        "id": "FXS9HqBUGcp6"
      },
      "source": [
        "%tensorflow_version 2.x\r\n",
        "from keras.preprocessing import sequence\r\n",
        "import keras\r\n",
        "import tensorflow as tf\r\n",
        "import os\r\n",
        "import numpy as np\r\n"
      ],
      "execution_count": 13,
      "outputs": []
    },
    {
      "cell_type": "code",
      "metadata": {
        "colab": {
          "base_uri": "https://localhost:8080/"
        },
        "id": "KZ6iJyTqHE3O",
        "outputId": "dee45d34-80e5-40b1-ee7e-8d91fee21920"
      },
      "source": [
        "# Dataset: Using an extract from a shakespeare play\r\n",
        "\r\n",
        "path_to_file = tf.keras.utils.get_file('shakespeare.txt','https://storage.googleapis.com/download.tensorflow.org/data/shakespeare.txt')\r\n"
      ],
      "execution_count": 14,
      "outputs": [
        {
          "output_type": "stream",
          "text": [
            "Downloading data from https://storage.googleapis.com/download.tensorflow.org/data/shakespeare.txt\n",
            "1122304/1115394 [==============================] - 0s 0us/step\n"
          ],
          "name": "stdout"
        }
      ]
    },
    {
      "cell_type": "markdown",
      "metadata": {
        "id": "drkckrllIVl2"
      },
      "source": [
        "###Loading Your Own Data\r\n",
        "To load your own data, you'll need to upload a file from the dialog below. Then you'll need to follow the steps from above but load in this new file instead."
      ]
    },
    {
      "cell_type": "code",
      "metadata": {
        "id": "nC4eWA_EIYuw"
      },
      "source": [
        "# from google.colab import files\r\n",
        "# path_to_file2 = list(files.upload().keys())[0]"
      ],
      "execution_count": 15,
      "outputs": []
    },
    {
      "cell_type": "markdown",
      "metadata": {
        "id": "u0OKszK9JDsy"
      },
      "source": [
        "###Read Contents of File\r\n",
        "Let's look at the contents of the file."
      ]
    },
    {
      "cell_type": "code",
      "metadata": {
        "colab": {
          "base_uri": "https://localhost:8080/"
        },
        "id": "a1DeTC--IlbB",
        "outputId": "2417d701-211d-4b17-d80b-9469f145d01a"
      },
      "source": [
        "# Read, then decode for py2 compatable format\r\n",
        "\r\n",
        "text = open(path_to_file, 'rb').read().decode(encoding = 'utf-8')\r\n",
        "# Length of text is the number of characters in it\r\n",
        "print('Length of text: {} characters'.format(len(text)))\r\n"
      ],
      "execution_count": 16,
      "outputs": [
        {
          "output_type": "stream",
          "text": [
            "Length of text: 1115394 characters\n"
          ],
          "name": "stdout"
        }
      ]
    },
    {
      "cell_type": "code",
      "metadata": {
        "colab": {
          "base_uri": "https://localhost:8080/"
        },
        "id": "ty8G8M43Jozf",
        "outputId": "8ace34e9-489f-40b2-b22d-3bd79373ca56"
      },
      "source": [
        "# Taking a look at the first 250 characters in text\r\n",
        "print(text[:250])"
      ],
      "execution_count": 17,
      "outputs": [
        {
          "output_type": "stream",
          "text": [
            "First Citizen:\n",
            "Before we proceed any further, hear me speak.\n",
            "\n",
            "All:\n",
            "Speak, speak.\n",
            "\n",
            "First Citizen:\n",
            "You are all resolved rather to die than to famish?\n",
            "\n",
            "All:\n",
            "Resolved. resolved.\n",
            "\n",
            "First Citizen:\n",
            "First, you know Caius Marcius is chief enemy to the people.\n",
            "\n"
          ],
          "name": "stdout"
        }
      ]
    },
    {
      "cell_type": "markdown",
      "metadata": {
        "id": "PW_NoRZogBbB"
      },
      "source": [
        "###Encoding\r\n",
        "Since this text isn't encoded yet well need to do that ourselves. We are going to encode each unique character as a different integer.\r\n"
      ]
    },
    {
      "cell_type": "code",
      "metadata": {
        "colab": {
          "base_uri": "https://localhost:8080/"
        },
        "id": "YaTkYFIlgEaE",
        "outputId": "f159ce82-8390-4cf1-eea3-35f24bd09f80"
      },
      "source": [
        "vocab = sorted(set(text))\r\n",
        "# Create a mapping from unique characters to indices\r\n",
        "\r\n",
        "# for i,u in enumerate(vocab):\r\n",
        "#   print(str(i)+\" \"+u)\r\n",
        "\r\n",
        "char2idx = {u:i for i,u in enumerate(vocab)} # save it as value: index pair\r\n",
        "print(char2idx)\r\n",
        "idx2char = np.array(vocab) # given to us\r\n",
        "print(idx2char)\r\n",
        "\r\n",
        "def text_to_int(text):  # convert the text into integer char by char\r\n",
        "  return np.array([char2idx[c] for c in text])\r\n",
        "\r\n",
        "text_as_int = text_to_int(text)"
      ],
      "execution_count": 18,
      "outputs": [
        {
          "output_type": "stream",
          "text": [
            "{'\\n': 0, ' ': 1, '!': 2, '$': 3, '&': 4, \"'\": 5, ',': 6, '-': 7, '.': 8, '3': 9, ':': 10, ';': 11, '?': 12, 'A': 13, 'B': 14, 'C': 15, 'D': 16, 'E': 17, 'F': 18, 'G': 19, 'H': 20, 'I': 21, 'J': 22, 'K': 23, 'L': 24, 'M': 25, 'N': 26, 'O': 27, 'P': 28, 'Q': 29, 'R': 30, 'S': 31, 'T': 32, 'U': 33, 'V': 34, 'W': 35, 'X': 36, 'Y': 37, 'Z': 38, 'a': 39, 'b': 40, 'c': 41, 'd': 42, 'e': 43, 'f': 44, 'g': 45, 'h': 46, 'i': 47, 'j': 48, 'k': 49, 'l': 50, 'm': 51, 'n': 52, 'o': 53, 'p': 54, 'q': 55, 'r': 56, 's': 57, 't': 58, 'u': 59, 'v': 60, 'w': 61, 'x': 62, 'y': 63, 'z': 64}\n",
            "['\\n' ' ' '!' '$' '&' \"'\" ',' '-' '.' '3' ':' ';' '?' 'A' 'B' 'C' 'D' 'E'\n",
            " 'F' 'G' 'H' 'I' 'J' 'K' 'L' 'M' 'N' 'O' 'P' 'Q' 'R' 'S' 'T' 'U' 'V' 'W'\n",
            " 'X' 'Y' 'Z' 'a' 'b' 'c' 'd' 'e' 'f' 'g' 'h' 'i' 'j' 'k' 'l' 'm' 'n' 'o'\n",
            " 'p' 'q' 'r' 's' 't' 'u' 'v' 'w' 'x' 'y' 'z']\n"
          ],
          "name": "stdout"
        }
      ]
    },
    {
      "cell_type": "code",
      "metadata": {
        "colab": {
          "base_uri": "https://localhost:8080/"
        },
        "id": "lBHfarYnhkca",
        "outputId": "fc53cdb4-6d01-4474-ad32-c7a6aad980b7"
      },
      "source": [
        "# Quick look at how a part of the text is encoded\r\n",
        "print(\"Text: \", text[:13])\r\n",
        "print(\"Encoded: \", text_to_int(text[:13]))"
      ],
      "execution_count": 19,
      "outputs": [
        {
          "output_type": "stream",
          "text": [
            "Text:  First Citizen\n",
            "Encoded:  [18 47 56 57 58  1 15 47 58 47 64 43 52]\n"
          ],
          "name": "stdout"
        }
      ]
    },
    {
      "cell_type": "code",
      "metadata": {
        "id": "oO8WRDIzhkfm"
      },
      "source": [
        "# Extra a function to convert the numeric values to text\r\n",
        "def int_to_text(ints):\r\n",
        "  try:\r\n",
        "    # ensure the integer is a list of arrays\r\n",
        "    ints = ints.numpy()\r\n",
        "\r\n",
        "  except:\r\n",
        "    pass\r\n",
        "    return \" \".join(idx2char[ints])\r\n",
        "\r\n",
        "  print(int_to_text(text_to_int(text[:15])))"
      ],
      "execution_count": 20,
      "outputs": []
    },
    {
      "cell_type": "markdown",
      "metadata": {
        "id": "21Uz8rJensDz"
      },
      "source": [
        "###Creating Training Examples\r\n",
        "Remember our task is to feed the model a sequence and have it return to us the next character. This means we need to split our text data from above into many shorter sequences that we can pass to the model as training examples. \r\n",
        "\r\n",
        "The training examples we will prepapre will use a *seq_length* sequence as input and a *seq_length* sequence as the output where that sequence is the original sequence shifted one letter to the right. For example:\r\n",
        "\r\n",
        "```input: Hell | output: ello```\r\n",
        "\r\n",
        "Our first step will be to create a stream of characters from our text data."
      ]
    },
    {
      "cell_type": "code",
      "metadata": {
        "id": "rwD7IKf1nMBS"
      },
      "source": [
        "# creating sequences\r\n",
        "seq_length = 100 #Length of sequence for a training example\r\n",
        "examples_per_epoch = len(text)//(seq_length+1) # coz for a seq of len 100, we are predicting the output as 101th char, next sequence starts from 102 position\r\n",
        "\r\n",
        "# Creating training examples / targets\r\n",
        "char_dataset = tf.data.Dataset.from_tensor_slices(text_as_int)"
      ],
      "execution_count": 21,
      "outputs": []
    },
    {
      "cell_type": "code",
      "metadata": {
        "id": "m7bhTEyDnMMI"
      },
      "source": [
        "sequences = char_dataset.batch(seq_length+1, drop_remainder=True) # creating batches of sequences for training and testing, and say if we 105 chars, and one batch is 101, we can create one batch and drop the remaining 4 chars\r\n"
      ],
      "execution_count": 22,
      "outputs": []
    },
    {
      "cell_type": "markdown",
      "metadata": {
        "id": "XpqSueLVrPmb"
      },
      "source": [
        "Now we need to use these sequences of length 101 and split them into input and output.\r\n",
        "\r\n"
      ]
    },
    {
      "cell_type": "code",
      "metadata": {
        "id": "sAmZ7nGmrLt6"
      },
      "source": [
        "def split_input_target(chunk): # for the example: hello\r\n",
        "    input_text = chunk[:-1] # all characters except the last one as: hell \r\n",
        "    target_text = chunk[1: ] #starting from the second char: ello\r\n",
        "    return input_text, target_text # hell, ello\r\n",
        "\r\n",
        "dataset = sequences.map(split_input_target) # we use map to apply the above function to every entry"
      ],
      "execution_count": 23,
      "outputs": []
    },
    {
      "cell_type": "code",
      "metadata": {
        "colab": {
          "base_uri": "https://localhost:8080/"
        },
        "id": "JQGxC6LZrLzL",
        "outputId": "7fe3eee3-a162-4619-e3a0-866ba06dc1aa"
      },
      "source": [
        "for x,y in dataset.take(2):\r\n",
        "  print(\"\\n\\nEXAMPLE\\n\")\r\n",
        "  print(\"INPUT\")\r\n",
        "  print(int_to_text(x))\r\n",
        "  print(\"\\nOUTPUT\")\r\n",
        "  print(int_to_text(y))"
      ],
      "execution_count": 24,
      "outputs": [
        {
          "output_type": "stream",
          "text": [
            "\n",
            "\n",
            "EXAMPLE\n",
            "\n",
            "INPUT\n",
            "F i r s t   C i t i z e n : \n",
            "\n",
            "None\n",
            "\n",
            "OUTPUT\n",
            "F i r s t   C i t i z e n : \n",
            "\n",
            "None\n",
            "\n",
            "\n",
            "EXAMPLE\n",
            "\n",
            "INPUT\n",
            "F i r s t   C i t i z e n : \n",
            "\n",
            "None\n",
            "\n",
            "OUTPUT\n",
            "F i r s t   C i t i z e n : \n",
            "\n",
            "None\n"
          ],
          "name": "stdout"
        }
      ]
    },
    {
      "cell_type": "markdown",
      "metadata": {
        "id": "jaN0B6W9sXJW"
      },
      "source": [
        "Finally we need to make training batches."
      ]
    },
    {
      "cell_type": "code",
      "metadata": {
        "id": "czIwv6olrL4x"
      },
      "source": [
        "BATCH_SIZE = 64\r\n",
        "VOCAB_SIZE = len(vocab) # vocab is the number of unique characters\r\n",
        "EMBEDDING_DIM = 256\r\n",
        "RNN_UNITS = 1024\r\n",
        "\r\n",
        "# Buffer size to shuffle the dataset\r\n",
        "# (TF data is designed to work with possibly infinite sequences,\r\n",
        "# so it doesn't attempt to shuffle the entire sequence in memory. Instead,\r\n",
        "# it maintains a buffer in which it shuffles elements).\r\n",
        "\r\n",
        "BUFFER_SIZE = 10000\r\n",
        "\r\n",
        "data = dataset.shuffle(BUFFER_SIZE).batch(BATCH_SIZE, drop_remainder = True)\r\n"
      ],
      "execution_count": 25,
      "outputs": []
    },
    {
      "cell_type": "markdown",
      "metadata": {
        "id": "EWn0Im-5to7P"
      },
      "source": [
        "###Building the Model\r\n",
        "Now it is time to build the model. We will use an embedding layer a LSTM and one dense layer that contains a node for each unique character in our training data. The dense layer will give us a probability distribution over all nodes."
      ]
    },
    {
      "cell_type": "code",
      "metadata": {
        "id": "5qZj0mXwtoCX"
      },
      "source": [
        "def build_model(vocab_size, embedding_dim, rnn_units, batch_size):\r\n",
        "  model = tf.keras.Sequential([\r\n",
        "      tf.keras.layers.Embedding(vocab_size, embedding_dim, batch_input_shape =[batch_size, None]),\r\n",
        "      tf.keras.layers.LSTM(rnn_units, \r\n",
        "                           return_sequences=True,\r\n",
        "                           stateful=True,\r\n",
        "                           recurrent_initializer ='glorot_uniform'),\r\n",
        "      tf.keras.layers.Dense(vocab_size)\r\n",
        "  ])\r\n",
        "\r\n",
        "  return model\r\n",
        "\r\n",
        "  model = build_model(VOCAB_SIZE, EMBEDDING_DIM, RNN_UNITS, BATCH_SIZE)\r\n",
        "  model.summary()"
      ],
      "execution_count": 26,
      "outputs": []
    },
    {
      "cell_type": "markdown",
      "metadata": {
        "id": "5_Ow4o8svPHD"
      },
      "source": [
        "###Creating a Loss Function\r\n",
        "Now we are going to create our own loss function for this problem. This is because our model will output a (64, sequence_length, 65) shaped tensor that represents the probability distribution of each character at each timestep for every sequence in the batch. "
      ]
    },
    {
      "cell_type": "markdown",
      "metadata": {
        "id": "v9PDMAPCvfNO"
      },
      "source": [
        "However, before we do that let's have a look at a sample input and the output from our untrained model. This is so we can understand what the model is giving us."
      ]
    },
    {
      "cell_type": "code",
      "metadata": {
        "colab": {
          "base_uri": "https://localhost:8080/"
        },
        "id": "nadWgSNFvhMb",
        "outputId": "dedc3cdb-c4e7-48e3-94ca-38729d0bdd13"
      },
      "source": [
        "for input_example_batch, target_example_batch in data.take(1):\r\n",
        "  example_batch_predictions = model(input_example_batch)  # asking our model for a prediction on our first batch of training data (64 entries)\r\n",
        "  print(example_batch_predictions.shape, \"# (batch_size, sequence_length, vocab_size)\")  # print out the output shape"
      ],
      "execution_count": 27,
      "outputs": [
        {
          "output_type": "stream",
          "text": [
            "(64, 1) # (batch_size, sequence_length, vocab_size)\n"
          ],
          "name": "stdout"
        }
      ]
    },
    {
      "cell_type": "code",
      "metadata": {
        "colab": {
          "base_uri": "https://localhost:8080/"
        },
        "id": "hTQ1-j2avjgQ",
        "outputId": "91c5c197-3415-4ae8-f764-57c29907b32a"
      },
      "source": [
        "# we can see that the predicition is an array of 64 arrays, one for each entry in the batch\r\n",
        "print(len(example_batch_predictions))\r\n",
        "print(example_batch_predictions)"
      ],
      "execution_count": 28,
      "outputs": [
        {
          "output_type": "stream",
          "text": [
            "64\n",
            "tf.Tensor(\n",
            "[[0.5873356 ]\n",
            " [0.01302982]\n",
            " [0.45807937]\n",
            " [0.293234  ]\n",
            " [0.10850812]\n",
            " [0.4098307 ]\n",
            " [0.21393013]\n",
            " [0.42327464]\n",
            " [0.14374235]\n",
            " [0.79076946]\n",
            " [0.0727241 ]\n",
            " [0.05004625]\n",
            " [0.10504515]\n",
            " [0.38153136]\n",
            " [0.00250143]\n",
            " [0.28558058]\n",
            " [0.026544  ]\n",
            " [0.7227878 ]\n",
            " [0.56315774]\n",
            " [0.6308337 ]\n",
            " [0.00437637]\n",
            " [0.01628184]\n",
            " [0.54029995]\n",
            " [0.38616526]\n",
            " [0.36530066]\n",
            " [0.18527201]\n",
            " [0.26341587]\n",
            " [0.2885506 ]\n",
            " [0.04039811]\n",
            " [0.22783206]\n",
            " [0.17417468]\n",
            " [0.34492415]\n",
            " [0.1992487 ]\n",
            " [0.3064144 ]\n",
            " [0.45019743]\n",
            " [0.31051287]\n",
            " [0.01514038]\n",
            " [0.40109664]\n",
            " [0.4705461 ]\n",
            " [0.1917153 ]\n",
            " [0.01176617]\n",
            " [0.09259679]\n",
            " [0.41080594]\n",
            " [0.7255513 ]\n",
            " [0.8973392 ]\n",
            " [0.54077715]\n",
            " [0.19179335]\n",
            " [0.5077768 ]\n",
            " [0.58573776]\n",
            " [0.48261404]\n",
            " [0.47749743]\n",
            " [0.26879132]\n",
            " [0.3824802 ]\n",
            " [0.13805911]\n",
            " [0.01339161]\n",
            " [0.38233545]\n",
            " [0.06661414]\n",
            " [0.68933606]\n",
            " [0.06153879]\n",
            " [0.39788797]\n",
            " [0.01983021]\n",
            " [0.57793033]\n",
            " [0.234968  ]\n",
            " [0.56597793]], shape=(64, 1), dtype=float32)\n"
          ],
          "name": "stdout"
        }
      ]
    },
    {
      "cell_type": "code",
      "metadata": {
        "colab": {
          "base_uri": "https://localhost:8080/"
        },
        "id": "5bV0ZVl3vjio",
        "outputId": "a275a5c4-8377-4f20-8868-9209709be644"
      },
      "source": [
        "# lets examine one prediction\r\n",
        "pred = example_batch_predictions[0]\r\n",
        "print(len(pred))\r\n",
        "\r\n",
        "print(pred)\r\n",
        "\r\n",
        "# notice this is a 2d array of length 100, where each interior array is the prediction for the next character at each time step"
      ],
      "execution_count": 29,
      "outputs": [
        {
          "output_type": "stream",
          "text": [
            "1\n",
            "tf.Tensor([0.5873356], shape=(1,), dtype=float32)\n"
          ],
          "name": "stdout"
        }
      ]
    },
    {
      "cell_type": "code",
      "metadata": {
        "colab": {
          "base_uri": "https://localhost:8080/"
        },
        "id": "UsXUeJMb08lE",
        "outputId": "909628fc-76c4-4d84-9bf8-dff6d04d1601"
      },
      "source": [
        "# and finally well look at a prediction at the first timestep\r\n",
        "time_pred = pred[0]\r\n",
        "# print(len(time_pred))\r\n",
        "print(time_pred)\r\n",
        "# and of course its 65 values representing the probabillity of each character occuring next"
      ],
      "execution_count": 30,
      "outputs": [
        {
          "output_type": "stream",
          "text": [
            "tf.Tensor(0.5873356, shape=(), dtype=float32)\n"
          ],
          "name": "stdout"
        }
      ]
    },
    {
      "cell_type": "code",
      "metadata": {
        "colab": {
          "base_uri": "https://localhost:8080/",
          "height": 286
        },
        "id": "IEHu1iuo1RWD",
        "outputId": "7144be13-0a0a-4a11-ad1e-627b907a223e"
      },
      "source": [
        "# If we want to determine the predicted character we need to sample the output distribution( pick a value based on probability)\r\n",
        "sampled_indices = tf.random.categorical(pred, num_samples=1)\r\n",
        "\r\n",
        "# now we can reshape that array and convert all the integers to numbers to see the actual characters\r\n",
        "sampled_indices = np.reshape(sampled_indices,(1,-1))[0]\r\n",
        "predicted_chars = int_to_text(sampled_indices)\r\n",
        "\r\n",
        "predicted_chars  # and this is what the model predicted for training sequence 1"
      ],
      "execution_count": 31,
      "outputs": [
        {
          "output_type": "error",
          "ename": "InvalidArgumentError",
          "evalue": "ignored",
          "traceback": [
            "\u001b[0;31m---------------------------------------------------------------------------\u001b[0m",
            "\u001b[0;31mInvalidArgumentError\u001b[0m                      Traceback (most recent call last)",
            "\u001b[0;32m<ipython-input-31-fe5879b6f4e3>\u001b[0m in \u001b[0;36m<module>\u001b[0;34m()\u001b[0m\n\u001b[1;32m      1\u001b[0m \u001b[0;31m# If we want to determine the predicted character we need to sample the output distribution( pick a value based on probability)\u001b[0m\u001b[0;34m\u001b[0m\u001b[0;34m\u001b[0m\u001b[0;34m\u001b[0m\u001b[0m\n\u001b[0;32m----> 2\u001b[0;31m \u001b[0msampled_indices\u001b[0m \u001b[0;34m=\u001b[0m \u001b[0mtf\u001b[0m\u001b[0;34m.\u001b[0m\u001b[0mrandom\u001b[0m\u001b[0;34m.\u001b[0m\u001b[0mcategorical\u001b[0m\u001b[0;34m(\u001b[0m\u001b[0mpred\u001b[0m\u001b[0;34m,\u001b[0m \u001b[0mnum_samples\u001b[0m\u001b[0;34m=\u001b[0m\u001b[0;36m1\u001b[0m\u001b[0;34m)\u001b[0m\u001b[0;34m\u001b[0m\u001b[0;34m\u001b[0m\u001b[0m\n\u001b[0m\u001b[1;32m      3\u001b[0m \u001b[0;34m\u001b[0m\u001b[0m\n\u001b[1;32m      4\u001b[0m \u001b[0;31m# now we can reshape that array and convert all the integers to numbers to see the actual characters\u001b[0m\u001b[0;34m\u001b[0m\u001b[0;34m\u001b[0m\u001b[0;34m\u001b[0m\u001b[0m\n\u001b[1;32m      5\u001b[0m \u001b[0msampled_indices\u001b[0m \u001b[0;34m=\u001b[0m \u001b[0mnp\u001b[0m\u001b[0;34m.\u001b[0m\u001b[0mreshape\u001b[0m\u001b[0;34m(\u001b[0m\u001b[0msampled_indices\u001b[0m\u001b[0;34m,\u001b[0m\u001b[0;34m(\u001b[0m\u001b[0;36m1\u001b[0m\u001b[0;34m,\u001b[0m\u001b[0;34m-\u001b[0m\u001b[0;36m1\u001b[0m\u001b[0;34m)\u001b[0m\u001b[0;34m)\u001b[0m\u001b[0;34m[\u001b[0m\u001b[0;36m0\u001b[0m\u001b[0;34m]\u001b[0m\u001b[0;34m\u001b[0m\u001b[0;34m\u001b[0m\u001b[0m\n",
            "\u001b[0;32m/usr/local/lib/python3.7/dist-packages/tensorflow/python/util/dispatch.py\u001b[0m in \u001b[0;36mwrapper\u001b[0;34m(*args, **kwargs)\u001b[0m\n\u001b[1;32m    199\u001b[0m     \u001b[0;34m\"\"\"Call target, and fall back on dispatchers if there is a TypeError.\"\"\"\u001b[0m\u001b[0;34m\u001b[0m\u001b[0;34m\u001b[0m\u001b[0m\n\u001b[1;32m    200\u001b[0m     \u001b[0;32mtry\u001b[0m\u001b[0;34m:\u001b[0m\u001b[0;34m\u001b[0m\u001b[0;34m\u001b[0m\u001b[0m\n\u001b[0;32m--> 201\u001b[0;31m       \u001b[0;32mreturn\u001b[0m \u001b[0mtarget\u001b[0m\u001b[0;34m(\u001b[0m\u001b[0;34m*\u001b[0m\u001b[0margs\u001b[0m\u001b[0;34m,\u001b[0m \u001b[0;34m**\u001b[0m\u001b[0mkwargs\u001b[0m\u001b[0;34m)\u001b[0m\u001b[0;34m\u001b[0m\u001b[0;34m\u001b[0m\u001b[0m\n\u001b[0m\u001b[1;32m    202\u001b[0m     \u001b[0;32mexcept\u001b[0m \u001b[0;34m(\u001b[0m\u001b[0mTypeError\u001b[0m\u001b[0;34m,\u001b[0m \u001b[0mValueError\u001b[0m\u001b[0;34m)\u001b[0m\u001b[0;34m:\u001b[0m\u001b[0;34m\u001b[0m\u001b[0;34m\u001b[0m\u001b[0m\n\u001b[1;32m    203\u001b[0m       \u001b[0;31m# Note: convert_to_eager_tensor currently raises a ValueError, not a\u001b[0m\u001b[0;34m\u001b[0m\u001b[0;34m\u001b[0m\u001b[0;34m\u001b[0m\u001b[0m\n",
            "\u001b[0;32m/usr/local/lib/python3.7/dist-packages/tensorflow/python/ops/random_ops.py\u001b[0m in \u001b[0;36mcategorical\u001b[0;34m(logits, num_samples, dtype, seed, name)\u001b[0m\n\u001b[1;32m    503\u001b[0m   \"\"\"\n\u001b[1;32m    504\u001b[0m   \u001b[0;32mwith\u001b[0m \u001b[0mops\u001b[0m\u001b[0;34m.\u001b[0m\u001b[0mname_scope\u001b[0m\u001b[0;34m(\u001b[0m\u001b[0mname\u001b[0m\u001b[0;34m,\u001b[0m \u001b[0;34m\"categorical\"\u001b[0m\u001b[0;34m,\u001b[0m \u001b[0;34m[\u001b[0m\u001b[0mlogits\u001b[0m\u001b[0;34m]\u001b[0m\u001b[0;34m)\u001b[0m\u001b[0;34m:\u001b[0m\u001b[0;34m\u001b[0m\u001b[0;34m\u001b[0m\u001b[0m\n\u001b[0;32m--> 505\u001b[0;31m     \u001b[0;32mreturn\u001b[0m \u001b[0mmultinomial_categorical_impl\u001b[0m\u001b[0;34m(\u001b[0m\u001b[0mlogits\u001b[0m\u001b[0;34m,\u001b[0m \u001b[0mnum_samples\u001b[0m\u001b[0;34m,\u001b[0m \u001b[0mdtype\u001b[0m\u001b[0;34m,\u001b[0m \u001b[0mseed\u001b[0m\u001b[0;34m)\u001b[0m\u001b[0;34m\u001b[0m\u001b[0;34m\u001b[0m\u001b[0m\n\u001b[0m\u001b[1;32m    506\u001b[0m \u001b[0;34m\u001b[0m\u001b[0m\n\u001b[1;32m    507\u001b[0m \u001b[0;34m\u001b[0m\u001b[0m\n",
            "\u001b[0;32m/usr/local/lib/python3.7/dist-packages/tensorflow/python/ops/random_ops.py\u001b[0m in \u001b[0;36mmultinomial_categorical_impl\u001b[0;34m(logits, num_samples, dtype, seed)\u001b[0m\n\u001b[1;32m    511\u001b[0m   \u001b[0mseed1\u001b[0m\u001b[0;34m,\u001b[0m \u001b[0mseed2\u001b[0m \u001b[0;34m=\u001b[0m \u001b[0mrandom_seed\u001b[0m\u001b[0;34m.\u001b[0m\u001b[0mget_seed\u001b[0m\u001b[0;34m(\u001b[0m\u001b[0mseed\u001b[0m\u001b[0;34m)\u001b[0m\u001b[0;34m\u001b[0m\u001b[0;34m\u001b[0m\u001b[0m\n\u001b[1;32m    512\u001b[0m   return gen_random_ops.multinomial(\n\u001b[0;32m--> 513\u001b[0;31m       logits, num_samples, seed=seed1, seed2=seed2, output_dtype=dtype)\n\u001b[0m\u001b[1;32m    514\u001b[0m \u001b[0;34m\u001b[0m\u001b[0m\n\u001b[1;32m    515\u001b[0m \u001b[0;34m\u001b[0m\u001b[0m\n",
            "\u001b[0;32m/usr/local/lib/python3.7/dist-packages/tensorflow/python/ops/gen_random_ops.py\u001b[0m in \u001b[0;36mmultinomial\u001b[0;34m(logits, num_samples, seed, seed2, output_dtype, name)\u001b[0m\n\u001b[1;32m     51\u001b[0m       \u001b[0;32mreturn\u001b[0m \u001b[0m_result\u001b[0m\u001b[0;34m\u001b[0m\u001b[0;34m\u001b[0m\u001b[0m\n\u001b[1;32m     52\u001b[0m     \u001b[0;32mexcept\u001b[0m \u001b[0m_core\u001b[0m\u001b[0;34m.\u001b[0m\u001b[0m_NotOkStatusException\u001b[0m \u001b[0;32mas\u001b[0m \u001b[0me\u001b[0m\u001b[0;34m:\u001b[0m\u001b[0;34m\u001b[0m\u001b[0;34m\u001b[0m\u001b[0m\n\u001b[0;32m---> 53\u001b[0;31m       \u001b[0m_ops\u001b[0m\u001b[0;34m.\u001b[0m\u001b[0mraise_from_not_ok_status\u001b[0m\u001b[0;34m(\u001b[0m\u001b[0me\u001b[0m\u001b[0;34m,\u001b[0m \u001b[0mname\u001b[0m\u001b[0;34m)\u001b[0m\u001b[0;34m\u001b[0m\u001b[0;34m\u001b[0m\u001b[0m\n\u001b[0m\u001b[1;32m     54\u001b[0m     \u001b[0;32mexcept\u001b[0m \u001b[0m_core\u001b[0m\u001b[0;34m.\u001b[0m\u001b[0m_FallbackException\u001b[0m\u001b[0;34m:\u001b[0m\u001b[0;34m\u001b[0m\u001b[0;34m\u001b[0m\u001b[0m\n\u001b[1;32m     55\u001b[0m       \u001b[0;32mpass\u001b[0m\u001b[0;34m\u001b[0m\u001b[0;34m\u001b[0m\u001b[0m\n",
            "\u001b[0;32m/usr/local/lib/python3.7/dist-packages/tensorflow/python/framework/ops.py\u001b[0m in \u001b[0;36mraise_from_not_ok_status\u001b[0;34m(e, name)\u001b[0m\n\u001b[1;32m   6860\u001b[0m   \u001b[0mmessage\u001b[0m \u001b[0;34m=\u001b[0m \u001b[0me\u001b[0m\u001b[0;34m.\u001b[0m\u001b[0mmessage\u001b[0m \u001b[0;34m+\u001b[0m \u001b[0;34m(\u001b[0m\u001b[0;34m\" name: \"\u001b[0m \u001b[0;34m+\u001b[0m \u001b[0mname\u001b[0m \u001b[0;32mif\u001b[0m \u001b[0mname\u001b[0m \u001b[0;32mis\u001b[0m \u001b[0;32mnot\u001b[0m \u001b[0;32mNone\u001b[0m \u001b[0;32melse\u001b[0m \u001b[0;34m\"\"\u001b[0m\u001b[0;34m)\u001b[0m\u001b[0;34m\u001b[0m\u001b[0;34m\u001b[0m\u001b[0m\n\u001b[1;32m   6861\u001b[0m   \u001b[0;31m# pylint: disable=protected-access\u001b[0m\u001b[0;34m\u001b[0m\u001b[0;34m\u001b[0m\u001b[0;34m\u001b[0m\u001b[0m\n\u001b[0;32m-> 6862\u001b[0;31m   \u001b[0msix\u001b[0m\u001b[0;34m.\u001b[0m\u001b[0mraise_from\u001b[0m\u001b[0;34m(\u001b[0m\u001b[0mcore\u001b[0m\u001b[0;34m.\u001b[0m\u001b[0m_status_to_exception\u001b[0m\u001b[0;34m(\u001b[0m\u001b[0me\u001b[0m\u001b[0;34m.\u001b[0m\u001b[0mcode\u001b[0m\u001b[0;34m,\u001b[0m \u001b[0mmessage\u001b[0m\u001b[0;34m)\u001b[0m\u001b[0;34m,\u001b[0m \u001b[0;32mNone\u001b[0m\u001b[0;34m)\u001b[0m\u001b[0;34m\u001b[0m\u001b[0;34m\u001b[0m\u001b[0m\n\u001b[0m\u001b[1;32m   6863\u001b[0m   \u001b[0;31m# pylint: enable=protected-access\u001b[0m\u001b[0;34m\u001b[0m\u001b[0;34m\u001b[0m\u001b[0;34m\u001b[0m\u001b[0m\n\u001b[1;32m   6864\u001b[0m \u001b[0;34m\u001b[0m\u001b[0m\n",
            "\u001b[0;32m/usr/local/lib/python3.7/dist-packages/six.py\u001b[0m in \u001b[0;36mraise_from\u001b[0;34m(value, from_value)\u001b[0m\n",
            "\u001b[0;31mInvalidArgumentError\u001b[0m: logits should be a matrix, got shape [1] [Op:Multinomial]"
          ]
        }
      ]
    },
    {
      "cell_type": "markdown",
      "metadata": {
        "id": "TYL6DQnb4tum"
      },
      "source": [
        "So now we need to create a loss function that can compare that output to the expected output and give us some numeric value representing how close the two were."
      ]
    },
    {
      "cell_type": "code",
      "metadata": {
        "id": "EkScx9B-3UOQ"
      },
      "source": [
        "def loss(labels, logits):\r\n",
        "  return tf.keras.losses.sparse_categorical_crossentropy(labels, logits, from_logits=True)\r\n",
        "  "
      ],
      "execution_count": null,
      "outputs": []
    },
    {
      "cell_type": "markdown",
      "metadata": {
        "id": "-tNh2lOh5Bgd"
      },
      "source": [
        "###Compiling the Model\r\n",
        "At this point we can think of our problem as a classification problem where the model predicts the probabillity of each unique letter coming next. \r\n"
      ]
    },
    {
      "cell_type": "code",
      "metadata": {
        "id": "_tkWEz8Z5A3H"
      },
      "source": [
        "model.compile(optimizer='adam', loss=loss)"
      ],
      "execution_count": null,
      "outputs": []
    },
    {
      "cell_type": "markdown",
      "metadata": {
        "id": "pxO-BucB5Sde"
      },
      "source": [
        "###Creating Checkpoints\r\n",
        "Now we are going to setup and configure our model to save checkpoinst as it trains. This will allow us to load our model from a checkpoint and continue training it."
      ]
    },
    {
      "cell_type": "code",
      "metadata": {
        "id": "Bg5QGuOi5dXP"
      },
      "source": [
        "#Directory where the checkpoints will be saved\r\n",
        "checkpoint_dir = './training_checkpoints'\r\n",
        "# Name of the checkpoint files\r\n",
        "checkpoint_prefix = os.path.join(checkpoint_dir, \"ckpt_{epoch}\")\r\n",
        "\r\n",
        "checkpoint_callback = tf.keras.callbacks.ModelCheckpoint(\r\n",
        "    filepath = checkpoint_prefix,\r\n",
        "    save_weights_only=True\r\n",
        ")"
      ],
      "execution_count": null,
      "outputs": []
    },
    {
      "cell_type": "markdown",
      "metadata": {
        "id": "XuWyMHOE6WWL"
      },
      "source": [
        "###Training\r\n",
        "Finally, we will start training the model. \r\n",
        "\r\n",
        "**If this is taking a while go to Runtime > Change Runtime Type and choose \"GPU\" under hardware accelerator.**"
      ]
    },
    {
      "cell_type": "code",
      "metadata": {
        "id": "r6dggKA16dHm"
      },
      "source": [
        "history = model.fit(data, epochs=50, callbacks=[checkpoint_callback])"
      ],
      "execution_count": null,
      "outputs": []
    },
    {
      "cell_type": "markdown",
      "metadata": {
        "id": "brc-8nru65RP"
      },
      "source": [
        "###Loading the Model\r\n",
        "We'll rebuild the model from a checkpoint using a batch_size of 1 so that we can feed one peice of text to the model and have it make a prediction."
      ]
    },
    {
      "cell_type": "code",
      "metadata": {
        "id": "whgC_UWD63ni"
      },
      "source": [
        "model = build_model(VOCAB_SIZE, EMBEDDING_DIM, RNN_UNITS, batch_size=1) # building the model with batch_size=1 by calling user defined function build_model()\r\n"
      ],
      "execution_count": null,
      "outputs": []
    },
    {
      "cell_type": "markdown",
      "metadata": {
        "id": "_DuIefIi7lP7"
      },
      "source": [
        "Once the model is finished training, we can find the lastest checkpoint that stores the models weights using the following line."
      ]
    },
    {
      "cell_type": "code",
      "metadata": {
        "id": "pW2fD2yd7mme"
      },
      "source": [
        "model.load_weights(tf.train.latest_checkpoint(checkpoint_dir))\r\n",
        "model.build(tf.TensorShape([1, None]))"
      ],
      "execution_count": null,
      "outputs": []
    },
    {
      "cell_type": "markdown",
      "metadata": {
        "id": "_QtehhEm77cO"
      },
      "source": [
        "We can load **any checkpoint** we want by specifying the exact file to load."
      ]
    },
    {
      "cell_type": "code",
      "metadata": {
        "id": "cEvJTjNK7n-d"
      },
      "source": [
        "checkpoint_num = 10\r\n",
        "model.load_weights(tf.train.load_checkpoint(\"./training_checkpoints/ckpt_\"+str(checkpoint_num)))\r\n",
        "model.build(tf.TensorShape([1, None]))"
      ],
      "execution_count": null,
      "outputs": []
    },
    {
      "cell_type": "markdown",
      "metadata": {
        "id": "fxIF2pQ18jiU"
      },
      "source": [
        "###Generating Text\r\n",
        "Now we can use the lovely function provided by tensorflow to generate some text using any starting string we'd like."
      ]
    },
    {
      "cell_type": "code",
      "metadata": {
        "id": "9BDZmW168kzD"
      },
      "source": [
        "def generate_text(model, start_string):\r\n",
        "  #Evaluation step (generating text using the learned model)\r\n",
        "\r\n",
        "  #Number of characters to generate\r\n",
        "  num_generate = 800\r\n",
        "\r\n",
        "  # Converting our start string to numbers aka vectorizing\r\n",
        "  input_eval = [char2idx[s] for s in start_string]\r\n",
        "  input_eval = tf.expand_dims(input_eval, 0) #expanding a 1D array to a nested 2D array\r\n",
        "\r\n",
        "  # Empty string to store our results\r\n",
        "  text_generated = []\r\n",
        "\r\n",
        "  #Low temperatures results in more predictable text.\r\n",
        "  #Higher temperatures results in more surprising text.\r\n",
        "  #Experiment to find the best setting.\r\n",
        "  temperature = 1.0\r\n",
        "\r\n",
        "# Here batch size == 1\r\n",
        "  model.reset_states()\r\n",
        "\r\n",
        "  for i in range(num_generate):\r\n",
        "    predictions = model(input_eval)\r\n",
        "    # remove the batch dimension\r\n",
        "\r\n",
        "    predictions = tf.squeeze(predictions, 0)\r\n",
        "\r\n",
        "    # using a categorical distribution to predict the character returned by the model\r\n",
        "    predictions = predictions/temperature\r\n",
        "    predicted_id = tf.random.categorical(predictions, num_samples=1)[-1,0].numpy()\r\n",
        "      # We pass the predicted character as the next input to the model\r\n",
        "      # along with the previous hidden state\r\n",
        "    input_eval = tf.expand_dims([predicted_id], 0)\r\n",
        "\r\n",
        "    text_generated.append(idx2char[predicted_id])\r\n",
        "\r\n",
        "  return (start_string + ' '.join(text_generated))\r\n",
        "\r\n",
        "\r\n",
        "\r\n",
        "    "
      ],
      "execution_count": null,
      "outputs": []
    },
    {
      "cell_type": "code",
      "metadata": {
        "id": "_teVERqY-xHL"
      },
      "source": [
        "inp = input(\"Type a starting string: \")\r\n",
        "print(generated_tex(model, inp))"
      ],
      "execution_count": null,
      "outputs": []
    },
    {
      "cell_type": "markdown",
      "metadata": {
        "id": "7pBXR5tu-7jt"
      },
      "source": [
        "And that's pretty much it for this module!"
      ]
    }
  ]
}